{
 "cells": [
  {
   "cell_type": "markdown",
   "metadata": {},
   "source": [
    "# Context-FID Score Presentation\n",
    "## Necessary packages and functions call\n",
    "# 固定ts2vec权重\n",
    "\n",
    "- Context-FID score: A useful metric measures how well the the synthetic time series windows ”fit” into the local context of the time series"
   ]
  },
  {
   "cell_type": "code",
   "execution_count": 8,
   "metadata": {},
   "outputs": [],
   "source": [
    "import os\n",
    "import torch\n",
    "import numpy as np\n",
    "import sys\n",
    "sys.path.append(os.path.join(os.path.dirname('__file__'), '../'))\n",
    "from Utils.context_fid import calculate_fid\n",
    "from Utils.metric_utils import display_scores\n",
    "from Utils.cross_correlation import CrossCorrelLoss\n",
    "from Models.ts2vec.ts2vec import TS2Vec"
   ]
  },
  {
   "cell_type": "markdown",
   "metadata": {},
   "source": [
    "## Data Loading\n",
    "\n",
    "Load original dataset and preprocess the loaded data."
   ]
  },
  {
   "cell_type": "code",
   "execution_count": 22,
   "metadata": {},
   "outputs": [],
   "source": [
    "iterations = 5\n",
    "ori_data = np.load('./OUTPUT/energyBL/samples/energy_norm_truth_24_train.npy')\n",
    "# ori_data = np.load('../OUTPUT/{dataset_name}/samples/{dataset_name}_norm_truth_{seq_length}_train.npy')  # Uncomment the line if dataset other than Sine is used.\n",
    "fake_data = np.load('./OUTPUT/Mamenergy/ddpm_fake_Mamenergy.npy')"
   ]
  },
  {
   "cell_type": "markdown",
   "metadata": {},
   "source": [
    "## Context-FID Score\n",
    "\n",
    "- The Frechet Inception distance-like score is based on unsupervised time series embeddings. It is able to score the fit of the fixed length synthetic samples into their context of (often much longer) true time series.\n",
    "\n",
    "- The lowest scoring models correspond to the best performing models in downstream tasks"
   ]
  },
  {
   "cell_type": "code",
   "execution_count": 23,
   "metadata": {},
   "outputs": [
    {
     "name": "stdout",
     "output_type": "stream",
     "text": [
      "Iter 0:  context-fid = 0.07553011601893575 \n",
      "\n",
      "Iter 1:  context-fid = 0.07553003033652236 \n",
      "\n",
      "Iter 2:  context-fid = 0.07552981054500527 \n",
      "\n",
      "Iter 3:  context-fid = 0.07552976211635568 \n",
      "\n",
      "Iter 4:  context-fid = 0.07552962800478444 \n",
      "\n",
      "Final Score:  0.07552986940432069 ± 2.483070372286939e-07\n"
     ]
    }
   ],
   "source": [
    "def Context_FID(ori_data, generated_data, model):\n",
    "    ori_represenation = model.encode(ori_data, encoding_window='full_series')\n",
    "    gen_represenation = model.encode(generated_data, encoding_window='full_series')\n",
    "    idx = np.random.permutation(ori_data.shape[0])\n",
    "    ori_represenation = ori_represenation[idx]\n",
    "    gen_represenation = gen_represenation[idx]\n",
    "    results = calculate_fid(ori_represenation, gen_represenation)\n",
    "    return results\n",
    "\n",
    "model = TS2Vec(input_dims=ori_data.shape[-1], device='cuda:0', batch_size=8, lr=0.001, output_dims=320, max_train_length=3000)\n",
    "#model.fit(ori_data, verbose=False)\n",
    "#model.save('ts2vec_custom.pth')\n",
    "model.load('ts2vec_energy.pth')\n",
    "context_fid_score = []\n",
    "\n",
    "for i in range(iterations):\n",
    "    context_fid = Context_FID(ori_data[:], fake_data[:ori_data.shape[0]],model)\n",
    "    context_fid_score.append(context_fid)\n",
    "    print(f'Iter {i}: ', 'context-fid =', context_fid, '\\n')\n",
    "      \n",
    "display_scores(context_fid_score)"
   ]
  },
  {
   "cell_type": "markdown",
   "metadata": {},
   "source": [
    "## Correlational Score\n",
    "\n",
    "- The metric uses the absolute error of the auto-correlation estimator by real data and synthetic data as the metric to assess the temporal dependency.\n",
    "\n",
    "- For d > 1, it uses the l1-norm of the difference between cross correlation matrices."
   ]
  },
  {
   "cell_type": "code",
   "execution_count": 4,
   "metadata": {},
   "outputs": [],
   "source": [
    "def random_choice(size, num_select=100):\n",
    "    select_idx = np.random.randint(low=0, high=size, size=(num_select,))\n",
    "    return select_idx"
   ]
  },
  {
   "cell_type": "code",
   "execution_count": 5,
   "metadata": {},
   "outputs": [
    {
     "name": "stdout",
     "output_type": "stream",
     "text": [
      "Iter 0:  cross-correlation = 0.019852216581699826 \n",
      "\n",
      "Iter 1:  cross-correlation = 0.01816951370252664 \n",
      "\n",
      "Iter 2:  cross-correlation = 0.022373661672091448 \n",
      "\n",
      "Iter 3:  cross-correlation = 0.012407943886992933 \n",
      "\n",
      "Iter 4:  cross-correlation = 0.010309792931556355 \n",
      "\n",
      "Final Score:  0.01662262575497344 ± 0.006316425881906014\n"
     ]
    }
   ],
   "source": [
    "x_real = torch.from_numpy(ori_data)\n",
    "x_fake = torch.from_numpy(fake_data)\n",
    "\n",
    "correlational_score = []\n",
    "size = int(x_real.shape[0] / iterations)\n",
    "\n",
    "for i in range(iterations):\n",
    "    real_idx = random_choice(x_real.shape[0], size)\n",
    "    fake_idx = random_choice(x_fake.shape[0], size)\n",
    "    corr = CrossCorrelLoss(x_real[real_idx, :, :], name='CrossCorrelLoss')\n",
    "    loss = corr.compute(x_fake[fake_idx, :, :])\n",
    "    correlational_score.append(loss.item())\n",
    "    print(f'Iter {i}: ', 'cross-correlation =', loss.item(), '\\n')\n",
    "\n",
    "display_scores(correlational_score)"
   ]
  }
 ],
 "metadata": {
  "kernelspec": {
   "display_name": "Python (mamba2)",
   "language": "python",
   "name": "mamba2"
  },
  "language_info": {
   "codemirror_mode": {
    "name": "ipython",
    "version": 3
   },
   "file_extension": ".py",
   "mimetype": "text/x-python",
   "name": "python",
   "nbconvert_exporter": "python",
   "pygments_lexer": "ipython3",
   "version": "3.10.14"
  }
 },
 "nbformat": 4,
 "nbformat_minor": 4
}
